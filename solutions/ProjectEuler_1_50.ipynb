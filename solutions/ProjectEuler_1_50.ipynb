{
 "cells": [
  {
   "cell_type": "markdown",
   "source": [
    "# Project Euler Solutions\n",
    "\n",
    "## Table of Contents\n",
    "1. [Multiples of 3 and 5](#Problem-1)"
   ],
   "metadata": {
    "collapsed": false
   }
  },
  {
   "cell_type": "markdown",
   "source": [
    "## Problem 1: Multiples of 3 and 5 <a class=\"anchor\" id=\"Problem-1\"></a>\n",
    "[Link to problem](https://projecteuler.net/problem=1)\n",
    "\n",
    "### Solution"
   ],
   "metadata": {
    "collapsed": false
   }
  },
  {
   "cell_type": "code",
   "execution_count": 7,
   "metadata": {
    "collapsed": true,
    "ExecuteTime": {
     "end_time": "2025-03-19T14:50:47.605210Z",
     "start_time": "2025-03-19T14:50:47.584058400Z"
    }
   },
   "outputs": [
    {
     "name": "stdout",
     "output_type": "stream",
     "text": [
      "233168\n"
     ]
    }
   ],
   "source": [
    "total = 0\n",
    "total += sum(range(0, 1000, 3))\n",
    "total += sum(filter(lambda x: x % 3 != 0, range(0, 1000, 5)))\n",
    "print(total)"
   ]
  },
  {
   "cell_type": "markdown",
   "source": [
    "# Problem 2: Even Fibonacci Numbers <a class=\"anchor\" id=\"Problem-2\"></a>\n",
    "[Link to problem](https://projecteuler.net/problem=2)\n",
    "\n",
    "### Solution"
   ],
   "metadata": {
    "collapsed": false
   }
  },
  {
   "cell_type": "code",
   "execution_count": 10,
   "outputs": [
    {
     "data": {
      "text/plain": "4613732"
     },
     "execution_count": 10,
     "metadata": {},
     "output_type": "execute_result"
    }
   ],
   "source": [
    "def fibonacci_generator(max_value=89):\n",
    "    fib = [1,1]\n",
    "    while fib[-1] + fib[-2] <= max_value:\n",
    "        fib.append(fib[-1] + fib[-2])\n",
    "    return fib\n",
    "\n",
    "sum(filter(lambda x: x % 2 == 0, fibonacci_generator(4_000_000)))"
   ],
   "metadata": {
    "collapsed": false,
    "ExecuteTime": {
     "end_time": "2025-03-19T15:05:16.454824Z",
     "start_time": "2025-03-19T15:05:16.434261500Z"
    }
   }
  },
  {
   "cell_type": "markdown",
   "source": [
    "# Problem 3: Largest Prime Factor <a class=\"anchor\" id=\"Problem-3\"></a>\n",
    "[Link to problem](https://projecteuler.net/problem=3)\n",
    "\n",
    "### Solution"
   ],
   "metadata": {
    "collapsed": false
   }
  },
  {
   "cell_type": "code",
   "execution_count": 8,
   "outputs": [
    {
     "name": "stdout",
     "output_type": "stream",
     "text": [
      "Prime factors:\n",
      "71\n",
      "839\n",
      "1471\n",
      "6857\n"
     ]
    }
   ],
   "source": [
    "from utils.prime_sieve import prime_sieve\n",
    "\n",
    "num = 600851475143\n",
    "\n",
    "primes = prime_sieve(int(num**0.5))\n",
    "\n",
    "print(\"Prime factors:\")\n",
    "for p in primes:\n",
    "    while num % p == 0:\n",
    "        num //= p\n",
    "        print(p)"
   ],
   "metadata": {
    "collapsed": false,
    "ExecuteTime": {
     "end_time": "2025-03-19T18:03:03.822193700Z",
     "start_time": "2025-03-19T18:03:03.676268500Z"
    }
   }
  },
  {
   "cell_type": "markdown",
   "source": [
    "# Problem 4: Largest Palindrome Product <a class=\"anchor\" id=\"Problem-4\"></a>\n",
    "[Link to problem](https://projecteuler.net/problem=4)\n",
    "\n",
    "### Solution"
   ],
   "metadata": {
    "collapsed": false
   }
  },
  {
   "cell_type": "code",
   "execution_count": 10,
   "outputs": [
    {
     "name": "stdout",
     "output_type": "stream",
     "text": [
      "906609\n"
     ]
    }
   ],
   "source": [
    "largest = 0\n",
    "for i in range(100, 1000):\n",
    "    for j in range(i, 1000):\n",
    "        product = i*j\n",
    "        if product == int(str(product)[::-1]):\n",
    "            largest = max(largest, product)\n",
    "print(largest)"
   ],
   "metadata": {
    "collapsed": false,
    "ExecuteTime": {
     "end_time": "2025-03-19T18:07:07.588885800Z",
     "start_time": "2025-03-19T18:07:07.393186200Z"
    }
   }
  },
  {
   "cell_type": "markdown",
   "source": [
    "# Problem 5: Smallest Multiple <a class=\"anchor\" id=\"Problem-5\"></a>\n",
    "[Link to problem](https://projecteuler.net/problem=5)\n",
    "\n",
    "### Solution"
   ],
   "metadata": {
    "collapsed": false
   }
  },
  {
   "cell_type": "code",
   "execution_count": 23,
   "outputs": [
    {
     "name": "stdout",
     "output_type": "stream",
     "text": [
      "232792560\n"
     ]
    }
   ],
   "source": [
    "num = 20 * 19\n",
    "interval = num\n",
    "lm = None\n",
    "while not lm:\n",
    "    if not any(filter(lambda x: num % x != 0, range(1, 21))):\n",
    "        lm = num\n",
    "    else:\n",
    "        num += interval\n",
    "print(lm)"
   ],
   "metadata": {
    "collapsed": false,
    "ExecuteTime": {
     "end_time": "2025-03-19T18:19:12.533920700Z",
     "start_time": "2025-03-19T18:19:12.005269200Z"
    }
   }
  },
  {
   "cell_type": "markdown",
   "source": [
    "# Problem 6: Sum Square Difference <a class=\"anchor\" id=\"Problem-6\"></a>\n",
    "[Link to problem](https://projecteuler.net/problem=6)\n",
    "\n",
    "### Solution"
   ],
   "metadata": {
    "collapsed": false
   }
  },
  {
   "cell_type": "code",
   "execution_count": 24,
   "outputs": [
    {
     "name": "stdout",
     "output_type": "stream",
     "text": [
      "25164150\n"
     ]
    }
   ],
   "source": [
    "sum_of_squares = sum(map(lambda x: x**2, range(1, 101)))\n",
    "square_of_sum = sum(range(1, 101))**2\n",
    "print(square_of_sum - sum_of_squares)"
   ],
   "metadata": {
    "collapsed": false,
    "ExecuteTime": {
     "end_time": "2025-03-19T18:24:42.020320500Z",
     "start_time": "2025-03-19T18:24:41.972095900Z"
    }
   }
  },
  {
   "cell_type": "markdown",
   "source": [
    "# Problem 7: 10001st Prime <a class=\"anchor\" id=\"Problem-7\"></a>\n",
    "[Link to problem](https://projecteuler.net/problem=7)\n",
    "\n",
    "### Solution"
   ],
   "metadata": {
    "collapsed": false
   }
  },
  {
   "cell_type": "code",
   "execution_count": 29,
   "outputs": [
    {
     "data": {
      "text/plain": "104743"
     },
     "execution_count": 29,
     "metadata": {},
     "output_type": "execute_result"
    }
   ],
   "source": [
    "from utils.prime_sieve import prime_sieve\n",
    "prime_sieve(1000000)[10000]"
   ],
   "metadata": {
    "collapsed": false,
    "ExecuteTime": {
     "end_time": "2025-03-19T18:27:57.245489200Z",
     "start_time": "2025-03-19T18:27:57.115554500Z"
    }
   }
  },
  {
   "cell_type": "markdown",
   "source": [
    "# Problem 8: Largest Product in a Series <a class=\"anchor\" id=\"Problem-8\"></a>\n",
    "[Link to problem](https://projecteuler.net/problem=8)\n",
    "\n",
    "### Solution"
   ],
   "metadata": {
    "collapsed": false
   }
  },
  {
   "cell_type": "code",
   "execution_count": 41,
   "outputs": [
    {
     "name": "stdout",
     "output_type": "stream",
     "text": [
      "23514624000\n"
     ]
    }
   ],
   "source": [
    "from math import prod\n",
    "\n",
    "num_string = \"\"\"73167176531330624919225119674426574742355349194934\n",
    "96983520312774506326239578318016984801869478851843\n",
    "85861560789112949495459501737958331952853208805511\n",
    "12540698747158523863050715693290963295227443043557\n",
    "66896648950445244523161731856403098711121722383113\n",
    "62229893423380308135336276614282806444486645238749\n",
    "30358907296290491560440772390713810515859307960866\n",
    "70172427121883998797908792274921901699720888093776\n",
    "65727333001053367881220235421809751254540594752243\n",
    "52584907711670556013604839586446706324415722155397\n",
    "53697817977846174064955149290862569321978468622482\n",
    "83972241375657056057490261407972968652414535100474\n",
    "82166370484403199890008895243450658541227588666881\n",
    "16427171479924442928230863465674813919123162824586\n",
    "17866458359124566529476545682848912883142607690042\n",
    "24219022671055626321111109370544217506941658960408\n",
    "07198403850962455444362981230987879927244284909188\n",
    "84580156166097919133875499200524063689912560717606\n",
    "05886116467109405077541002256983155200055935729725\n",
    "71636269561882670428252483600823257530420752963450\"\"\"\n",
    "num_string = [int(d) for d in num_string if d.isdigit()]\n",
    "highest = 0\n",
    "for i in range(0, len(num_string)-13):\n",
    "    highest = max(prod([d for d in num_string[i:i+13]]), highest)\n",
    "print(highest)"
   ],
   "metadata": {
    "collapsed": false,
    "ExecuteTime": {
     "end_time": "2025-03-19T19:10:25.029319200Z",
     "start_time": "2025-03-19T19:10:25.011538500Z"
    }
   }
  },
  {
   "cell_type": "markdown",
   "source": [
    "# Problem 9: Special Pythagorian Triplet <a class=\"anchor\" id=\"Problem-9\"></a>\n",
    "[Link to problem](https://projecteuler.net/problem=9)\n",
    "\n",
    "### Solution"
   ],
   "metadata": {
    "collapsed": false
   }
  },
  {
   "cell_type": "code",
   "execution_count": 53,
   "outputs": [
    {
     "name": "stdout",
     "output_type": "stream",
     "text": [
      "31875000.0\n"
     ]
    }
   ],
   "source": [
    "for a in range(1, 999):\n",
    "    for b in range(a, 999-a):\n",
    "        c = (a**2 + b**2)**0.5\n",
    "        if a + b + c == 1000:\n",
    "            print(a*b*(a**2+b**2)**0.5)"
   ],
   "metadata": {
    "collapsed": false,
    "ExecuteTime": {
     "end_time": "2025-03-19T19:25:26.341327900Z",
     "start_time": "2025-03-19T19:25:26.181615800Z"
    }
   }
  },
  {
   "cell_type": "markdown",
   "source": [
    "# Problem 10: Summation of Primes <a class=\"anchor\" id=\"Problem-10\"></a>\n",
    "[Link to problem](https://projecteuler.net/problem=10)\n",
    "\n",
    "### Solution"
   ],
   "metadata": {
    "collapsed": false
   }
  },
  {
   "cell_type": "code",
   "execution_count": 11,
   "outputs": [
    {
     "data": {
      "text/plain": "142913828922"
     },
     "execution_count": 11,
     "metadata": {},
     "output_type": "execute_result"
    }
   ],
   "source": [
    "from utils.prime_sieve import prime_sieve\n",
    "\n",
    "sum(prime_sieve(2_000_000))"
   ],
   "metadata": {
    "collapsed": false,
    "ExecuteTime": {
     "end_time": "2025-03-19T20:18:23.933158200Z",
     "start_time": "2025-03-19T20:18:23.686097200Z"
    }
   }
  },
  {
   "cell_type": "markdown",
   "source": [
    "# Problem 11: Largest Product in a Grid <a class=\"anchor\" id=\"Problem-11\"></a>\n",
    "[Link to problem](https://projecteuler.net/problem=11)\n",
    "\n",
    "### Solution"
   ],
   "metadata": {
    "collapsed": false
   }
  },
  {
   "cell_type": "code",
   "execution_count": 32,
   "outputs": [
    {
     "name": "stdout",
     "output_type": "stream",
     "text": [
      "70600674\n"
     ]
    }
   ],
   "source": [
    "from math import prod\n",
    "\n",
    "grid = \"\"\"08 02 22 97 38 15 00 40 00 75 04 05 07 78 52 12 50 77 91 08\n",
    "49 49 99 40 17 81 18 57 60 87 17 40 98 43 69 48 04 56 62 00\n",
    "81 49 31 73 55 79 14 29 93 71 40 67 53 88 30 03 49 13 36 65\n",
    "52 70 95 23 04 60 11 42 69 24 68 56 01 32 56 71 37 02 36 91\n",
    "22 31 16 71 51 67 63 89 41 92 36 54 22 40 40 28 66 33 13 80\n",
    "24 47 32 60 99 03 45 02 44 75 33 53 78 36 84 20 35 17 12 50\n",
    "32 98 81 28 64 23 67 10 26 38 40 67 59 54 70 66 18 38 64 70\n",
    "67 26 20 68 02 62 12 20 95 63 94 39 63 08 40 91 66 49 94 21\n",
    "24 55 58 05 66 73 99 26 97 17 78 78 96 83 14 88 34 89 63 72\n",
    "21 36 23 09 75 00 76 44 20 45 35 14 00 61 33 97 34 31 33 95\n",
    "78 17 53 28 22 75 31 67 15 94 03 80 04 62 16 14 09 53 56 92\n",
    "16 39 05 42 96 35 31 47 55 58 88 24 00 17 54 24 36 29 85 57\n",
    "86 56 00 48 35 71 89 07 05 44 44 37 44 60 21 58 51 54 17 58\n",
    "19 80 81 68 05 94 47 69 28 73 92 13 86 52 17 77 04 89 55 40\n",
    "04 52 08 83 97 35 99 16 07 97 57 32 16 26 26 79 33 27 98 66\n",
    "88 36 68 87 57 62 20 72 03 46 33 67 46 55 12 32 63 93 53 69\n",
    "04 42 16 73 38 25 39 11 24 94 72 18 08 46 29 32 40 62 76 36\n",
    "20 69 36 41 72 30 23 88 34 62 99 69 82 67 59 85 74 04 36 16\n",
    "20 73 35 29 78 31 90 01 74 31 49 71 48 86 81 16 23 57 05 54\n",
    "01 70 54 71 83 51 54 69 16 92 33 48 61 43 52 01 89 19 67 48\"\"\"\n",
    "grid = grid.split('\\n')\n",
    "grid = [r.split() for r in grid]\n",
    "grid = [[int(d) for d in row] for row in grid]\n",
    "grid\n",
    "\n",
    "highest = 0\n",
    "# Horizontal\n",
    "for row in grid:\n",
    "    for i in range(len(row)-3):\n",
    "        total = prod(row[i:i+4])\n",
    "        highest = max(total, highest)\n",
    "\n",
    "# Vertical\n",
    "grid_transpose = [list(row) for row in zip(*grid)]\n",
    "for row in grid_transpose:\n",
    "    for i in range(len(row)-3):\n",
    "        total = prod(row[i:i+4])\n",
    "        highest = max(total, highest)\n",
    "\n",
    "# Diagonal L->R\n",
    "for i, row in enumerate(grid[:-3]):\n",
    "    for j, col in enumerate(row[:-3]):\n",
    "        total = prod([col, grid[i+1][j+1], grid[i+2][j+2], grid[i+3][j+3]])\n",
    "        highest = max(total, highest)\n",
    "\n",
    "# Diagonal R->L\n",
    "for i, row in enumerate(grid[3:]):\n",
    "    for j, col in enumerate(row[:-3]):\n",
    "        total = prod([col, grid[i+2][j+1], grid[i+1][j+2], grid[i][j+3]])\n",
    "        highest = max(total, highest)\n",
    "\n",
    "print(highest)"
   ],
   "metadata": {
    "collapsed": false,
    "ExecuteTime": {
     "end_time": "2025-03-19T20:47:37.190276Z",
     "start_time": "2025-03-19T20:47:37.178219Z"
    }
   }
  },
  {
   "cell_type": "code",
   "execution_count": null,
   "outputs": [],
   "source": [],
   "metadata": {
    "collapsed": false
   }
  }
 ],
 "metadata": {
  "kernelspec": {
   "display_name": "Python 3",
   "language": "python",
   "name": "python3"
  },
  "language_info": {
   "codemirror_mode": {
    "name": "ipython",
    "version": 2
   },
   "file_extension": ".py",
   "mimetype": "text/x-python",
   "name": "python",
   "nbconvert_exporter": "python",
   "pygments_lexer": "ipython2",
   "version": "2.7.6"
  }
 },
 "nbformat": 4,
 "nbformat_minor": 0
}
